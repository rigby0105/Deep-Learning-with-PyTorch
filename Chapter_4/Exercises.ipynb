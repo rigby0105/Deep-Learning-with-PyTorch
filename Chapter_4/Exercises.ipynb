{
 "cells": [
  {
   "cell_type": "code",
   "execution_count": 1,
   "metadata": {},
   "outputs": [],
   "source": [
    "import numpy as np\n",
    "import torch\n",
    "torch.set_printoptions(edgeitems=2, threshold=50)"
   ]
  },
  {
   "attachments": {},
   "cell_type": "markdown",
   "metadata": {},
   "source": [
    "# Take several pictures of red, blue, and green items with your phone or other digital camera (or download some from the internet, if a camera isn't available).\n",
    "* Load each image, and convert it to a tensor.\n",
    "* For each image tensor, use the .mean() method to get a sense of how bright the image is.\n",
    "* Take the mean of each channel of your images. Can you identify the red, green, and blue items from only the channel averages?\n",
    "\n",
    "# Select a relatively large file containing Python source code.\n",
    "* Build an index of all the words in the source file (feel free to make your tokenization as simple or as complex as you like; we suggest starting with replacing r\"[^a-zA-Z0-9_]+\" with spaces).\n",
    "* Compare your index with the one we made for Pride and Prejudice. Which is larger?\n",
    "* Create the one-hot encoding for the source code file.\n",
    "* What information is lost with this encoding? How does that information compare to what's lost in the Pride and Prejudice encoding?"
   ]
  }
 ],
 "metadata": {
  "kernelspec": {
   "display_name": "base",
   "language": "python",
   "name": "python3"
  },
  "language_info": {
   "codemirror_mode": {
    "name": "ipython",
    "version": 3
   },
   "file_extension": ".py",
   "mimetype": "text/x-python",
   "name": "python",
   "nbconvert_exporter": "python",
   "pygments_lexer": "ipython3",
   "version": "3.9.13"
  },
  "orig_nbformat": 4,
  "vscode": {
   "interpreter": {
    "hash": "40d3a090f54c6569ab1632332b64b2c03c39dcf918b08424e98f38b5ae0af88f"
   }
  }
 },
 "nbformat": 4,
 "nbformat_minor": 2
}
